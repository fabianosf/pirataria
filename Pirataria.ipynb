{
 "cells": [
  {
   "cell_type": "code",
   "execution_count": 1,
   "id": "measured-communications",
   "metadata": {},
   "outputs": [],
   "source": [
    "import pandas as pd\n",
    "import seaborn as srn\n",
    "import statistics  as sts"
   ]
  },
  {
   "cell_type": "code",
   "execution_count": 50,
   "id": "appointed-notion",
   "metadata": {},
   "outputs": [],
   "source": [
    "# https://www.anatel.gov.br/dadosabertos/paineis_de_dados/fiscalizacao/combate_pirataria.zip"
   ]
  },
  {
   "cell_type": "code",
   "execution_count": 2,
   "id": "outstanding-constitutional",
   "metadata": {},
   "outputs": [
    {
     "data": {
      "text/html": [
       "<div>\n",
       "<style scoped>\n",
       "    .dataframe tbody tr th:only-of-type {\n",
       "        vertical-align: middle;\n",
       "    }\n",
       "\n",
       "    .dataframe tbody tr th {\n",
       "        vertical-align: top;\n",
       "    }\n",
       "\n",
       "    .dataframe thead th {\n",
       "        text-align: right;\n",
       "    }\n",
       "</style>\n",
       "<table border=\"1\" class=\"dataframe\">\n",
       "  <thead>\n",
       "    <tr style=\"text-align: right;\">\n",
       "      <th></th>\n",
       "      <th>ID</th>\n",
       "      <th>Área</th>\n",
       "      <th>Equipamento</th>\n",
       "      <th>QT_UN_APREENDIDAS</th>\n",
       "      <th>QT_UN_LACRADAS</th>\n",
       "      <th>QT_UN_RETIDAS</th>\n",
       "      <th>Valor Estimado</th>\n",
       "      <th>QT_UN_RETIRADAS</th>\n",
       "      <th>Mês</th>\n",
       "      <th>Data</th>\n",
       "      <th>DT_EXTRACAO</th>\n",
       "      <th>Ano</th>\n",
       "    </tr>\n",
       "  </thead>\n",
       "  <tbody>\n",
       "    <tr>\n",
       "      <th>0</th>\n",
       "      <td>36246</td>\n",
       "      <td>4-Aduana</td>\n",
       "      <td>Outros</td>\n",
       "      <td>NaN</td>\n",
       "      <td>42014.0</td>\n",
       "      <td>NaN</td>\n",
       "      <td>252084,00</td>\n",
       "      <td>42014</td>\n",
       "      <td>dez</td>\n",
       "      <td>18/12/2020</td>\n",
       "      <td>28/12/2021</td>\n",
       "      <td>2020</td>\n",
       "    </tr>\n",
       "    <tr>\n",
       "      <th>1</th>\n",
       "      <td>26307</td>\n",
       "      <td>4-Aduana</td>\n",
       "      <td>Equipamento de Radiação Restrita</td>\n",
       "      <td>NaN</td>\n",
       "      <td>27.0</td>\n",
       "      <td>NaN</td>\n",
       "      <td>13500,00</td>\n",
       "      <td>27</td>\n",
       "      <td>dez</td>\n",
       "      <td>18/12/2020</td>\n",
       "      <td>28/12/2021</td>\n",
       "      <td>2020</td>\n",
       "    </tr>\n",
       "    <tr>\n",
       "      <th>2</th>\n",
       "      <td>36246</td>\n",
       "      <td>4-Aduana</td>\n",
       "      <td>Bloqueador de sinal (Jammer)</td>\n",
       "      <td>NaN</td>\n",
       "      <td>8.0</td>\n",
       "      <td>NaN</td>\n",
       "      <td>8000,00</td>\n",
       "      <td>8</td>\n",
       "      <td>dez</td>\n",
       "      <td>18/12/2020</td>\n",
       "      <td>28/12/2021</td>\n",
       "      <td>2020</td>\n",
       "    </tr>\n",
       "    <tr>\n",
       "      <th>3</th>\n",
       "      <td>36246</td>\n",
       "      <td>4-Aduana</td>\n",
       "      <td>Decodificador de sinal para SeAC</td>\n",
       "      <td>NaN</td>\n",
       "      <td>12.0</td>\n",
       "      <td>NaN</td>\n",
       "      <td>6000,00</td>\n",
       "      <td>12</td>\n",
       "      <td>dez</td>\n",
       "      <td>18/12/2020</td>\n",
       "      <td>28/12/2021</td>\n",
       "      <td>2020</td>\n",
       "    </tr>\n",
       "    <tr>\n",
       "      <th>4</th>\n",
       "      <td>26307</td>\n",
       "      <td>4-Aduana</td>\n",
       "      <td>Bloqueador de sinal (Jammer)</td>\n",
       "      <td>NaN</td>\n",
       "      <td>23.0</td>\n",
       "      <td>NaN</td>\n",
       "      <td>23000,00</td>\n",
       "      <td>23</td>\n",
       "      <td>dez</td>\n",
       "      <td>18/12/2020</td>\n",
       "      <td>28/12/2021</td>\n",
       "      <td>2020</td>\n",
       "    </tr>\n",
       "    <tr>\n",
       "      <th>...</th>\n",
       "      <td>...</td>\n",
       "      <td>...</td>\n",
       "      <td>...</td>\n",
       "      <td>...</td>\n",
       "      <td>...</td>\n",
       "      <td>...</td>\n",
       "      <td>...</td>\n",
       "      <td>...</td>\n",
       "      <td>...</td>\n",
       "      <td>...</td>\n",
       "      <td>...</td>\n",
       "      <td>...</td>\n",
       "    </tr>\n",
       "    <tr>\n",
       "      <th>545</th>\n",
       "      <td>73810</td>\n",
       "      <td>1-Comércio</td>\n",
       "      <td>Equipamento de Radiação Restrita</td>\n",
       "      <td>NaN</td>\n",
       "      <td>NaN</td>\n",
       "      <td>185.0</td>\n",
       "      <td>9000,00</td>\n",
       "      <td>185</td>\n",
       "      <td>ago</td>\n",
       "      <td>23/08/2021</td>\n",
       "      <td>28/12/2021</td>\n",
       "      <td>2021</td>\n",
       "    </tr>\n",
       "    <tr>\n",
       "      <th>546</th>\n",
       "      <td>73810</td>\n",
       "      <td>1-Comércio</td>\n",
       "      <td>Outros</td>\n",
       "      <td>NaN</td>\n",
       "      <td>NaN</td>\n",
       "      <td>10.0</td>\n",
       "      <td>1000,00</td>\n",
       "      <td>10</td>\n",
       "      <td>ago</td>\n",
       "      <td>23/08/2021</td>\n",
       "      <td>28/12/2021</td>\n",
       "      <td>2021</td>\n",
       "    </tr>\n",
       "    <tr>\n",
       "      <th>547</th>\n",
       "      <td>73810</td>\n",
       "      <td>1-Comércio</td>\n",
       "      <td>Carregadores de Baterias</td>\n",
       "      <td>NaN</td>\n",
       "      <td>NaN</td>\n",
       "      <td>40.0</td>\n",
       "      <td>1000,00</td>\n",
       "      <td>40</td>\n",
       "      <td>ago</td>\n",
       "      <td>23/08/2021</td>\n",
       "      <td>28/12/2021</td>\n",
       "      <td>2021</td>\n",
       "    </tr>\n",
       "    <tr>\n",
       "      <th>548</th>\n",
       "      <td>41639</td>\n",
       "      <td>1-Comércio</td>\n",
       "      <td>Equipamento de Radiação Restrita</td>\n",
       "      <td>4.0</td>\n",
       "      <td>NaN</td>\n",
       "      <td>NaN</td>\n",
       "      <td>650,00</td>\n",
       "      <td>4</td>\n",
       "      <td>out</td>\n",
       "      <td>01/10/2020</td>\n",
       "      <td>28/12/2021</td>\n",
       "      <td>2020</td>\n",
       "    </tr>\n",
       "    <tr>\n",
       "      <th>549</th>\n",
       "      <td>44699</td>\n",
       "      <td>1-Comércio</td>\n",
       "      <td>NaN</td>\n",
       "      <td>0.0</td>\n",
       "      <td>NaN</td>\n",
       "      <td>3279.0</td>\n",
       "      <td>25,00</td>\n",
       "      <td>3279</td>\n",
       "      <td>jan</td>\n",
       "      <td>25/01/2021</td>\n",
       "      <td>28/12/2021</td>\n",
       "      <td>2021</td>\n",
       "    </tr>\n",
       "  </tbody>\n",
       "</table>\n",
       "<p>550 rows × 12 columns</p>\n",
       "</div>"
      ],
      "text/plain": [
       "        ID        Área                       Equipamento  QT_UN_APREENDIDAS  \\\n",
       "0    36246    4-Aduana                            Outros                NaN   \n",
       "1    26307    4-Aduana  Equipamento de Radiação Restrita                NaN   \n",
       "2    36246    4-Aduana      Bloqueador de sinal (Jammer)                NaN   \n",
       "3    36246    4-Aduana  Decodificador de sinal para SeAC                NaN   \n",
       "4    26307    4-Aduana      Bloqueador de sinal (Jammer)                NaN   \n",
       "..     ...         ...                               ...                ...   \n",
       "545  73810  1-Comércio  Equipamento de Radiação Restrita                NaN   \n",
       "546  73810  1-Comércio                            Outros                NaN   \n",
       "547  73810  1-Comércio          Carregadores de Baterias                NaN   \n",
       "548  41639  1-Comércio  Equipamento de Radiação Restrita                4.0   \n",
       "549  44699  1-Comércio                               NaN                0.0   \n",
       "\n",
       "     QT_UN_LACRADAS  QT_UN_RETIDAS Valor Estimado  QT_UN_RETIRADAS  Mês  \\\n",
       "0           42014.0            NaN      252084,00            42014  dez   \n",
       "1              27.0            NaN       13500,00               27  dez   \n",
       "2               8.0            NaN        8000,00                8  dez   \n",
       "3              12.0            NaN        6000,00               12  dez   \n",
       "4              23.0            NaN       23000,00               23  dez   \n",
       "..              ...            ...            ...              ...  ...   \n",
       "545             NaN          185.0        9000,00              185  ago   \n",
       "546             NaN           10.0        1000,00               10  ago   \n",
       "547             NaN           40.0        1000,00               40  ago   \n",
       "548             NaN            NaN         650,00                4  out   \n",
       "549             NaN         3279.0          25,00             3279  jan   \n",
       "\n",
       "           Data DT_EXTRACAO   Ano  \n",
       "0    18/12/2020  28/12/2021  2020  \n",
       "1    18/12/2020  28/12/2021  2020  \n",
       "2    18/12/2020  28/12/2021  2020  \n",
       "3    18/12/2020  28/12/2021  2020  \n",
       "4    18/12/2020  28/12/2021  2020  \n",
       "..          ...         ...   ...  \n",
       "545  23/08/2021  28/12/2021  2021  \n",
       "546  23/08/2021  28/12/2021  2021  \n",
       "547  23/08/2021  28/12/2021  2021  \n",
       "548  01/10/2020  28/12/2021  2020  \n",
       "549  25/01/2021  28/12/2021  2021  \n",
       "\n",
       "[550 rows x 12 columns]"
      ]
     },
     "execution_count": 2,
     "metadata": {},
     "output_type": "execute_result"
    }
   ],
   "source": [
    "df = pd.read_csv('Tabela_PACP.csv', sep=';', encoding='utf8')\n",
    "df"
   ]
  },
  {
   "cell_type": "code",
   "execution_count": 3,
   "id": "suffering-honor",
   "metadata": {},
   "outputs": [
    {
     "data": {
      "text/plain": [
       "(550, 12)"
      ]
     },
     "execution_count": 3,
     "metadata": {},
     "output_type": "execute_result"
    }
   ],
   "source": [
    "df.shape"
   ]
  },
  {
   "cell_type": "code",
   "execution_count": 4,
   "id": "proof-signal",
   "metadata": {},
   "outputs": [
    {
     "data": {
      "text/plain": [
       "Área\n",
       "1-Comércio              89\n",
       "2-Provedores de SCM      8\n",
       "3-E-commerce             5\n",
       "4-Aduana               440\n",
       "dtype: int64"
      ]
     },
     "execution_count": 4,
     "metadata": {},
     "output_type": "execute_result"
    }
   ],
   "source": [
    "# Explorando dados categoricos\n",
    "# Área\n",
    "agrupado = df.groupby(['Área']).size()\n",
    "agrupado"
   ]
  },
  {
   "cell_type": "code",
   "execution_count": 5,
   "id": "unlikely-crime",
   "metadata": {},
   "outputs": [
    {
     "data": {
      "text/plain": [
       "<AxesSubplot:xlabel='Área'>"
      ]
     },
     "execution_count": 5,
     "metadata": {},
     "output_type": "execute_result"
    },
    {
     "data": {
      "image/png": "[encoded data removed]",
      "text/plain": [
       "<Figure size 432x288 with 1 Axes>"
      ]
     },
     "metadata": {
      "needs_background": "light"
     },
     "output_type": "display_data"
    }
   ],
   "source": [
    "agrupado.plot.bar(color = 'blue')"
   ]
  },
  {
   "cell_type": "code",
   "execution_count": 6,
   "id": "little-beach",
   "metadata": {},
   "outputs": [
    {
     "data": {
      "text/plain": [
       "Equipamento\n",
       "Antena                                6\n",
       "Baterias                              3\n",
       "Bloqueador de sinal (Jammer)         16\n",
       "Cabo Metálico                         7\n",
       "Cabo Óptico                           5\n",
       "Carregadores de Baterias             46\n",
       "Celular e acessórios                  8\n",
       "Celulares                             6\n",
       "Decodificador de sinal para SeAC     20\n",
       "Equipamento de Radiação Restrita    131\n",
       "Equipamento de Rede de Dados         29\n",
       "Equipamento óptico                   36\n",
       "Outros                               72\n",
       "Reforçador de sinal                  11\n",
       "SmartTV Box                         146\n",
       "dtype: int64"
      ]
     },
     "execution_count": 6,
     "metadata": {},
     "output_type": "execute_result"
    }
   ],
   "source": [
    "# Explorando dados categoricos\n",
    "# Equipamento\n",
    "agrupado = df.groupby(['Equipamento']).size()\n",
    "agrupado"
   ]
  },
  {
   "cell_type": "code",
   "execution_count": 7,
   "id": "upper-granny",
   "metadata": {},
   "outputs": [
    {
     "data": {
      "text/plain": [
       "<AxesSubplot:xlabel='Equipamento'>"
      ]
     },
     "execution_count": 7,
     "metadata": {},
     "output_type": "execute_result"
    },
    {
     "data": {
      "image/png": "[encoded data removed]",
      "text/plain": [
       "<Figure size 432x288 with 1 Axes>"
      ]
     },
     "metadata": {
      "needs_background": "light"
     },
     "output_type": "display_data"
    }
   ],
   "source": [
    "agrupado.plot.bar(color = 'red')"
   ]
  },
  {
   "cell_type": "code",
   "execution_count": 8,
   "id": "noticed-uzbekistan",
   "metadata": {},
   "outputs": [
    {
     "data": {
      "text/plain": [
       "count        92.000000\n",
       "mean       5226.554348\n",
       "std       15411.084242\n",
       "min           0.000000\n",
       "25%           0.000000\n",
       "50%          14.500000\n",
       "75%        3250.000000\n",
       "max      117600.000000\n",
       "Name: QT_UN_APREENDIDAS, dtype: float64"
      ]
     },
     "execution_count": 8,
     "metadata": {},
     "output_type": "execute_result"
    }
   ],
   "source": [
    "# Explorando dados numericos\n",
    "# QT_UN_APREENDIDAS\n",
    "df['QT_UN_APREENDIDAS'].describe()"
   ]
  },
  {
   "cell_type": "code",
   "execution_count": 9,
   "id": "minus-abortion",
   "metadata": {},
   "outputs": [
    {
     "name": "stderr",
     "output_type": "stream",
     "text": [
      "C:\\Users\\3CON-RJ\\AppData\\Roaming\\Python\\Python38\\site-packages\\seaborn\\_decorators.py:36: FutureWarning: Pass the following variable as a keyword arg: x. From version 0.12, the only valid positional argument will be `data`, and passing other arguments without an explicit keyword will result in an error or misinterpretation.\n",
      "  warnings.warn(\n"
     ]
    },
    {
     "data": {
      "text/plain": [
       "Text(0.5, 1.0, 'QT_UN_APREENDIDAS')"
      ]
     },
     "execution_count": 9,
     "metadata": {},
     "output_type": "execute_result"
    },
    {
     "data": {
      "image/png": "[encoded data removed]",
      "text/plain": [
       "<Figure size 432x288 with 1 Axes>"
      ]
     },
     "metadata": {
      "needs_background": "light"
     },
     "output_type": "display_data"
    }
   ],
   "source": [
    "srn.boxplot(df['QT_UN_APREENDIDAS']).set_title('QT_UN_APREENDIDAS')"
   ]
  },
  {
   "cell_type": "code",
   "execution_count": 10,
   "id": "special-average",
   "metadata": {},
   "outputs": [
    {
     "data": {
      "text/plain": [
       "count       123.000000\n",
       "mean       3852.536585\n",
       "std       20468.530167\n",
       "min           0.000000\n",
       "25%           2.000000\n",
       "50%          23.000000\n",
       "75%         525.000000\n",
       "max      212250.000000\n",
       "Name: QT_UN_LACRADAS, dtype: float64"
      ]
     },
     "execution_count": 10,
     "metadata": {},
     "output_type": "execute_result"
    }
   ],
   "source": [
    "# Explorando dados numericos\n",
    "# QT_UN_LACRADAS\n",
    "df['QT_UN_LACRADAS'].describe()"
   ]
  },
  {
   "cell_type": "code",
   "execution_count": 11,
   "id": "fuzzy-scratch",
   "metadata": {},
   "outputs": [
    {
     "name": "stderr",
     "output_type": "stream",
     "text": [
      "C:\\Users\\3CON-RJ\\AppData\\Roaming\\Python\\Python38\\site-packages\\seaborn\\_decorators.py:36: FutureWarning: Pass the following variable as a keyword arg: x. From version 0.12, the only valid positional argument will be `data`, and passing other arguments without an explicit keyword will result in an error or misinterpretation.\n",
      "  warnings.warn(\n"
     ]
    },
    {
     "data": {
      "text/plain": [
       "Text(0.5, 1.0, 'QT_UN_LACRADAS')"
      ]
     },
     "execution_count": 11,
     "metadata": {},
     "output_type": "execute_result"
    },
    {
     "data": {
      "image/png": "[encoded data removed]",
      "text/plain": [
       "<Figure size 432x288 with 1 Axes>"
      ]
     },
     "metadata": {
      "needs_background": "light"
     },
     "output_type": "display_data"
    }
   ],
   "source": [
    "srn.boxplot(df['QT_UN_LACRADAS']).set_title('QT_UN_LACRADAS')"
   ]
  },
  {
   "cell_type": "code",
   "execution_count": 12,
   "id": "packed-guess",
   "metadata": {},
   "outputs": [
    {
     "data": {
      "text/plain": [
       "count       387.000000\n",
       "mean       7448.191214\n",
       "std       20967.694077\n",
       "min           0.000000\n",
       "25%          31.500000\n",
       "50%        1000.000000\n",
       "75%        5075.000000\n",
       "max      219270.000000\n",
       "Name: QT_UN_RETIDAS, dtype: float64"
      ]
     },
     "execution_count": 12,
     "metadata": {},
     "output_type": "execute_result"
    }
   ],
   "source": [
    "# Explorando dados numericos\n",
    "# QT_UN_RETIDAS\n",
    "df['QT_UN_RETIDAS'].describe()"
   ]
  },
  {
   "cell_type": "code",
   "execution_count": 13,
   "id": "intense-wrist",
   "metadata": {},
   "outputs": [
    {
     "name": "stderr",
     "output_type": "stream",
     "text": [
      "C:\\Users\\3CON-RJ\\AppData\\Roaming\\Python\\Python38\\site-packages\\seaborn\\_decorators.py:36: FutureWarning: Pass the following variable as a keyword arg: x. From version 0.12, the only valid positional argument will be `data`, and passing other arguments without an explicit keyword will result in an error or misinterpretation.\n",
      "  warnings.warn(\n"
     ]
    },
    {
     "data": {
      "text/plain": [
       "Text(0.5, 1.0, 'QT_UN_RETIDAS')"
      ]
     },
     "execution_count": 13,
     "metadata": {},
     "output_type": "execute_result"
    },
    {
     "data": {
      "image/png": "[encoded data removed]",
      "text/plain": [
       "<Figure size 432x288 with 1 Axes>"
      ]
     },
     "metadata": {
      "needs_background": "light"
     },
     "output_type": "display_data"
    }
   ],
   "source": [
    "srn.boxplot(df['QT_UN_RETIDAS']).set_title('QT_UN_RETIDAS')"
   ]
  },
  {
   "cell_type": "code",
   "execution_count": 14,
   "id": "dressed-southwest",
   "metadata": {},
   "outputs": [
    {
     "data": {
      "text/plain": [
       "Index(['ID', 'Área', 'Equipamento', 'QT_UN_APREENDIDAS', 'QT_UN_LACRADAS',\n",
       "       'QT_UN_RETIDAS', 'Valor Estimado', 'QT_UN_RETIRADAS', 'Mês', 'Data',\n",
       "       'DT_EXTRACAO', 'Ano'],\n",
       "      dtype='object')"
      ]
     },
     "execution_count": 14,
     "metadata": {},
     "output_type": "execute_result"
    }
   ],
   "source": [
    "df.columns"
   ]
  },
  {
   "cell_type": "code",
   "execution_count": 15,
   "id": "special-processing",
   "metadata": {},
   "outputs": [],
   "source": [
    "# Apagando as colunas que nao irei utilizar\n",
    "df.drop(columns=[\"Mês\", \"Ano\"], inplace=True)"
   ]
  },
  {
   "cell_type": "code",
   "execution_count": 16,
   "id": "champion-exclusion",
   "metadata": {},
   "outputs": [
    {
     "data": {
      "text/plain": [
       "Index(['ID', 'Área', 'Equipamento', 'QT_UN_APREENDIDAS', 'QT_UN_LACRADAS',\n",
       "       'QT_UN_RETIDAS', 'Valor Estimado', 'QT_UN_RETIRADAS', 'Data',\n",
       "       'DT_EXTRACAO'],\n",
       "      dtype='object')"
      ]
     },
     "execution_count": 16,
     "metadata": {},
     "output_type": "execute_result"
    }
   ],
   "source": [
    "df.columns"
   ]
  },
  {
   "cell_type": "code",
   "execution_count": 17,
   "id": "aggressive-telescope",
   "metadata": {},
   "outputs": [
    {
     "data": {
      "text/plain": [
       "count         483\n",
       "unique        353\n",
       "top       1000,00\n",
       "freq           11\n",
       "Name: Valor Estimado, dtype: object"
      ]
     },
     "execution_count": 17,
     "metadata": {},
     "output_type": "execute_result"
    }
   ],
   "source": [
    "# Prosseguindo com a analise ... dados numericos\n",
    "df['Valor Estimado'].describe()"
   ]
  },
  {
   "cell_type": "code",
   "execution_count": 18,
   "id": "amateur-scroll",
   "metadata": {},
   "outputs": [
    {
     "data": {
      "text/html": [
       "<div>\n",
       "<style scoped>\n",
       "    .dataframe tbody tr th:only-of-type {\n",
       "        vertical-align: middle;\n",
       "    }\n",
       "\n",
       "    .dataframe tbody tr th {\n",
       "        vertical-align: top;\n",
       "    }\n",
       "\n",
       "    .dataframe thead th {\n",
       "        text-align: right;\n",
       "    }\n",
       "</style>\n",
       "<table border=\"1\" class=\"dataframe\">\n",
       "  <thead>\n",
       "    <tr style=\"text-align: right;\">\n",
       "      <th></th>\n",
       "      <th>ID</th>\n",
       "      <th>Área</th>\n",
       "      <th>Equipamento</th>\n",
       "      <th>QT_UN_APREENDIDAS</th>\n",
       "      <th>QT_UN_LACRADAS</th>\n",
       "      <th>QT_UN_RETIDAS</th>\n",
       "      <th>Valor_Estimado</th>\n",
       "      <th>QT_UN_RETIRADAS</th>\n",
       "      <th>Data</th>\n",
       "      <th>DT_EXTRACAO</th>\n",
       "    </tr>\n",
       "  </thead>\n",
       "  <tbody>\n",
       "    <tr>\n",
       "      <th>0</th>\n",
       "      <td>36246</td>\n",
       "      <td>4-Aduana</td>\n",
       "      <td>Outros</td>\n",
       "      <td>NaN</td>\n",
       "      <td>42014.0</td>\n",
       "      <td>NaN</td>\n",
       "      <td>252084,00</td>\n",
       "      <td>42014</td>\n",
       "      <td>18/12/2020</td>\n",
       "      <td>28/12/2021</td>\n",
       "    </tr>\n",
       "    <tr>\n",
       "      <th>1</th>\n",
       "      <td>26307</td>\n",
       "      <td>4-Aduana</td>\n",
       "      <td>Equipamento de Radiação Restrita</td>\n",
       "      <td>NaN</td>\n",
       "      <td>27.0</td>\n",
       "      <td>NaN</td>\n",
       "      <td>13500,00</td>\n",
       "      <td>27</td>\n",
       "      <td>18/12/2020</td>\n",
       "      <td>28/12/2021</td>\n",
       "    </tr>\n",
       "    <tr>\n",
       "      <th>2</th>\n",
       "      <td>36246</td>\n",
       "      <td>4-Aduana</td>\n",
       "      <td>Bloqueador de sinal (Jammer)</td>\n",
       "      <td>NaN</td>\n",
       "      <td>8.0</td>\n",
       "      <td>NaN</td>\n",
       "      <td>8000,00</td>\n",
       "      <td>8</td>\n",
       "      <td>18/12/2020</td>\n",
       "      <td>28/12/2021</td>\n",
       "    </tr>\n",
       "  </tbody>\n",
       "</table>\n",
       "</div>"
      ],
      "text/plain": [
       "      ID      Área                       Equipamento  QT_UN_APREENDIDAS  \\\n",
       "0  36246  4-Aduana                            Outros                NaN   \n",
       "1  26307  4-Aduana  Equipamento de Radiação Restrita                NaN   \n",
       "2  36246  4-Aduana      Bloqueador de sinal (Jammer)                NaN   \n",
       "\n",
       "   QT_UN_LACRADAS  QT_UN_RETIDAS Valor_Estimado  QT_UN_RETIRADAS        Data  \\\n",
       "0         42014.0            NaN      252084,00            42014  18/12/2020   \n",
       "1            27.0            NaN       13500,00               27  18/12/2020   \n",
       "2             8.0            NaN        8000,00                8  18/12/2020   \n",
       "\n",
       "  DT_EXTRACAO  \n",
       "0  28/12/2021  \n",
       "1  28/12/2021  \n",
       "2  28/12/2021  "
      ]
     },
     "execution_count": 18,
     "metadata": {},
     "output_type": "execute_result"
    }
   ],
   "source": [
    "df.rename(columns = {'Valor Estimado': 'Valor_Estimado'}, inplace=True)\n",
    "df.head(3)"
   ]
  },
  {
   "cell_type": "code",
   "execution_count": 19,
   "id": "adverse-intellectual",
   "metadata": {},
   "outputs": [
    {
     "name": "stdout",
     "output_type": "stream",
     "text": [
      "<class 'pandas.core.frame.DataFrame'>\n",
      "RangeIndex: 550 entries, 0 to 549\n",
      "Data columns (total 10 columns):\n",
      " #   Column             Non-Null Count  Dtype  \n",
      "---  ------             --------------  -----  \n",
      " 0   ID                 550 non-null    int64  \n",
      " 1   Área               542 non-null    object \n",
      " 2   Equipamento        542 non-null    object \n",
      " 3   QT_UN_APREENDIDAS  92 non-null     float64\n",
      " 4   QT_UN_LACRADAS     123 non-null    float64\n",
      " 5   QT_UN_RETIDAS      387 non-null    float64\n",
      " 6   Valor_Estimado     483 non-null    object \n",
      " 7   QT_UN_RETIRADAS    550 non-null    int64  \n",
      " 8   Data               550 non-null    object \n",
      " 9   DT_EXTRACAO        550 non-null    object \n",
      "dtypes: float64(3), int64(2), object(5)\n",
      "memory usage: 43.1+ KB\n"
     ]
    }
   ],
   "source": [
    "# Verificando o tipo de dado das colunas\n",
    "df.info()"
   ]
  },
  {
   "cell_type": "code",
   "execution_count": 20,
   "id": "better-union",
   "metadata": {},
   "outputs": [],
   "source": [
    "# A coluna Valor_Estimado esta object(string) \n",
    "# tirando a virgual e colocando o ponto\n",
    "df['Valor_Estimado'] = df['Valor_Estimado'].apply(lambda x: str(x).replace(\",\", \".\"))"
   ]
  },
  {
   "cell_type": "code",
   "execution_count": 21,
   "id": "hidden-grain",
   "metadata": {},
   "outputs": [],
   "source": [
    "# Agora de object(string) para float64\n",
    "df['Valor_Estimado'] = df['Valor_Estimado'].astype('float64')"
   ]
  },
  {
   "cell_type": "code",
   "execution_count": 22,
   "id": "absolute-dollar",
   "metadata": {},
   "outputs": [
    {
     "name": "stdout",
     "output_type": "stream",
     "text": [
      "<class 'pandas.core.frame.DataFrame'>\n",
      "RangeIndex: 550 entries, 0 to 549\n",
      "Data columns (total 10 columns):\n",
      " #   Column             Non-Null Count  Dtype  \n",
      "---  ------             --------------  -----  \n",
      " 0   ID                 550 non-null    int64  \n",
      " 1   Área               542 non-null    object \n",
      " 2   Equipamento        542 non-null    object \n",
      " 3   QT_UN_APREENDIDAS  92 non-null     float64\n",
      " 4   QT_UN_LACRADAS     123 non-null    float64\n",
      " 5   QT_UN_RETIDAS      387 non-null    float64\n",
      " 6   Valor_Estimado     483 non-null    float64\n",
      " 7   QT_UN_RETIRADAS    550 non-null    int64  \n",
      " 8   Data               550 non-null    object \n",
      " 9   DT_EXTRACAO        550 non-null    object \n",
      "dtypes: float64(4), int64(2), object(4)\n",
      "memory usage: 43.1+ KB\n"
     ]
    }
   ],
   "source": [
    "df.info()"
   ]
  },
  {
   "cell_type": "code",
   "execution_count": 23,
   "id": "structured-husband",
   "metadata": {},
   "outputs": [
    {
     "name": "stderr",
     "output_type": "stream",
     "text": [
      "C:\\Users\\3CON-RJ\\AppData\\Roaming\\Python\\Python38\\site-packages\\seaborn\\_decorators.py:36: FutureWarning: Pass the following variable as a keyword arg: x. From version 0.12, the only valid positional argument will be `data`, and passing other arguments without an explicit keyword will result in an error or misinterpretation.\n",
      "  warnings.warn(\n"
     ]
    },
    {
     "data": {
      "text/plain": [
       "Text(0.5, 1.0, 'Valor_Estimado')"
      ]
     },
     "execution_count": 23,
     "metadata": {},
     "output_type": "execute_result"
    },
    {
     "data": {
      "image/png": "[encoded data removed]",
      "text/plain": [
       "<Figure size 432x288 with 1 Axes>"
      ]
     },
     "metadata": {
      "needs_background": "light"
     },
     "output_type": "display_data"
    }
   ],
   "source": [
    "srn.boxplot(df['Valor_Estimado']).set_title('Valor_Estimado')"
   ]
  },
  {
   "cell_type": "code",
   "execution_count": 24,
   "id": "computational-occasions",
   "metadata": {},
   "outputs": [
    {
     "data": {
      "text/plain": [
       "count       550.000000\n",
       "mean       6976.645455\n",
       "std       20975.507794\n",
       "min           0.000000\n",
       "25%          13.250000\n",
       "50%         587.000000\n",
       "75%        4040.500000\n",
       "max      219270.000000\n",
       "Name: QT_UN_RETIRADAS, dtype: float64"
      ]
     },
     "execution_count": 24,
     "metadata": {},
     "output_type": "execute_result"
    }
   ],
   "source": [
    "# explorar coluna numerica QT_UN_RETIRADAS    \n",
    "df['QT_UN_RETIRADAS'].describe()"
   ]
  },
  {
   "cell_type": "code",
   "execution_count": 25,
   "id": "persistent-adjustment",
   "metadata": {},
   "outputs": [
    {
     "name": "stderr",
     "output_type": "stream",
     "text": [
      "C:\\Users\\3CON-RJ\\AppData\\Roaming\\Python\\Python38\\site-packages\\seaborn\\_decorators.py:36: FutureWarning: Pass the following variable as a keyword arg: x. From version 0.12, the only valid positional argument will be `data`, and passing other arguments without an explicit keyword will result in an error or misinterpretation.\n",
      "  warnings.warn(\n"
     ]
    },
    {
     "data": {
      "text/plain": [
       "Text(0.5, 1.0, 'QT_UN_RETIRADAS')"
      ]
     },
     "execution_count": 25,
     "metadata": {},
     "output_type": "execute_result"
    },
    {
     "data": {
      "image/png": "[encoded data removed]",
      "text/plain": [
       "<Figure size 432x288 with 1 Axes>"
      ]
     },
     "metadata": {
      "needs_background": "light"
     },
     "output_type": "display_data"
    }
   ],
   "source": [
    "srn.boxplot(df['QT_UN_RETIRADAS']).set_title('QT_UN_RETIRADAS')"
   ]
  },
  {
   "cell_type": "markdown",
   "id": "controlling-distributor",
   "metadata": {},
   "source": [
    "# Tratamento dos Dados"
   ]
  },
  {
   "cell_type": "code",
   "execution_count": 26,
   "id": "intense-pilot",
   "metadata": {},
   "outputs": [],
   "source": [
    "# Renomeado a coluna Área para Area                 \n",
    "df.rename(columns = {'Área': 'Area'}, inplace=True)"
   ]
  },
  {
   "cell_type": "code",
   "execution_count": 27,
   "id": "powered-parish",
   "metadata": {},
   "outputs": [],
   "source": [
    "# nao irei usar minha df original\n",
    "dados = df"
   ]
  },
  {
   "cell_type": "code",
   "execution_count": 28,
   "id": "nuclear-revolution",
   "metadata": {},
   "outputs": [
    {
     "data": {
      "text/html": [
       "<div>\n",
       "<style scoped>\n",
       "    .dataframe tbody tr th:only-of-type {\n",
       "        vertical-align: middle;\n",
       "    }\n",
       "\n",
       "    .dataframe tbody tr th {\n",
       "        vertical-align: top;\n",
       "    }\n",
       "\n",
       "    .dataframe thead th {\n",
       "        text-align: right;\n",
       "    }\n",
       "</style>\n",
       "<table border=\"1\" class=\"dataframe\">\n",
       "  <thead>\n",
       "    <tr style=\"text-align: right;\">\n",
       "      <th></th>\n",
       "      <th>ID</th>\n",
       "      <th>Area</th>\n",
       "      <th>Equipamento</th>\n",
       "      <th>QT_UN_APREENDIDAS</th>\n",
       "      <th>QT_UN_LACRADAS</th>\n",
       "      <th>QT_UN_RETIDAS</th>\n",
       "      <th>Valor_Estimado</th>\n",
       "      <th>QT_UN_RETIRADAS</th>\n",
       "      <th>Data</th>\n",
       "      <th>DT_EXTRACAO</th>\n",
       "    </tr>\n",
       "  </thead>\n",
       "  <tbody>\n",
       "    <tr>\n",
       "      <th>0</th>\n",
       "      <td>False</td>\n",
       "      <td>False</td>\n",
       "      <td>False</td>\n",
       "      <td>True</td>\n",
       "      <td>False</td>\n",
       "      <td>True</td>\n",
       "      <td>False</td>\n",
       "      <td>False</td>\n",
       "      <td>False</td>\n",
       "      <td>False</td>\n",
       "    </tr>\n",
       "    <tr>\n",
       "      <th>1</th>\n",
       "      <td>False</td>\n",
       "      <td>False</td>\n",
       "      <td>False</td>\n",
       "      <td>True</td>\n",
       "      <td>False</td>\n",
       "      <td>True</td>\n",
       "      <td>False</td>\n",
       "      <td>False</td>\n",
       "      <td>False</td>\n",
       "      <td>False</td>\n",
       "    </tr>\n",
       "    <tr>\n",
       "      <th>2</th>\n",
       "      <td>False</td>\n",
       "      <td>False</td>\n",
       "      <td>False</td>\n",
       "      <td>True</td>\n",
       "      <td>False</td>\n",
       "      <td>True</td>\n",
       "      <td>False</td>\n",
       "      <td>False</td>\n",
       "      <td>False</td>\n",
       "      <td>False</td>\n",
       "    </tr>\n",
       "    <tr>\n",
       "      <th>3</th>\n",
       "      <td>False</td>\n",
       "      <td>False</td>\n",
       "      <td>False</td>\n",
       "      <td>True</td>\n",
       "      <td>False</td>\n",
       "      <td>True</td>\n",
       "      <td>False</td>\n",
       "      <td>False</td>\n",
       "      <td>False</td>\n",
       "      <td>False</td>\n",
       "    </tr>\n",
       "    <tr>\n",
       "      <th>4</th>\n",
       "      <td>False</td>\n",
       "      <td>False</td>\n",
       "      <td>False</td>\n",
       "      <td>True</td>\n",
       "      <td>False</td>\n",
       "      <td>True</td>\n",
       "      <td>False</td>\n",
       "      <td>False</td>\n",
       "      <td>False</td>\n",
       "      <td>False</td>\n",
       "    </tr>\n",
       "    <tr>\n",
       "      <th>...</th>\n",
       "      <td>...</td>\n",
       "      <td>...</td>\n",
       "      <td>...</td>\n",
       "      <td>...</td>\n",
       "      <td>...</td>\n",
       "      <td>...</td>\n",
       "      <td>...</td>\n",
       "      <td>...</td>\n",
       "      <td>...</td>\n",
       "      <td>...</td>\n",
       "    </tr>\n",
       "    <tr>\n",
       "      <th>95</th>\n",
       "      <td>False</td>\n",
       "      <td>False</td>\n",
       "      <td>False</td>\n",
       "      <td>True</td>\n",
       "      <td>False</td>\n",
       "      <td>True</td>\n",
       "      <td>False</td>\n",
       "      <td>False</td>\n",
       "      <td>False</td>\n",
       "      <td>False</td>\n",
       "    </tr>\n",
       "    <tr>\n",
       "      <th>96</th>\n",
       "      <td>False</td>\n",
       "      <td>False</td>\n",
       "      <td>True</td>\n",
       "      <td>True</td>\n",
       "      <td>True</td>\n",
       "      <td>False</td>\n",
       "      <td>False</td>\n",
       "      <td>False</td>\n",
       "      <td>False</td>\n",
       "      <td>False</td>\n",
       "    </tr>\n",
       "    <tr>\n",
       "      <th>97</th>\n",
       "      <td>False</td>\n",
       "      <td>False</td>\n",
       "      <td>False</td>\n",
       "      <td>True</td>\n",
       "      <td>False</td>\n",
       "      <td>True</td>\n",
       "      <td>False</td>\n",
       "      <td>False</td>\n",
       "      <td>False</td>\n",
       "      <td>False</td>\n",
       "    </tr>\n",
       "    <tr>\n",
       "      <th>98</th>\n",
       "      <td>False</td>\n",
       "      <td>False</td>\n",
       "      <td>False</td>\n",
       "      <td>False</td>\n",
       "      <td>True</td>\n",
       "      <td>True</td>\n",
       "      <td>False</td>\n",
       "      <td>False</td>\n",
       "      <td>False</td>\n",
       "      <td>False</td>\n",
       "    </tr>\n",
       "    <tr>\n",
       "      <th>99</th>\n",
       "      <td>False</td>\n",
       "      <td>False</td>\n",
       "      <td>False</td>\n",
       "      <td>False</td>\n",
       "      <td>True</td>\n",
       "      <td>True</td>\n",
       "      <td>False</td>\n",
       "      <td>False</td>\n",
       "      <td>False</td>\n",
       "      <td>False</td>\n",
       "    </tr>\n",
       "  </tbody>\n",
       "</table>\n",
       "<p>100 rows × 10 columns</p>\n",
       "</div>"
      ],
      "text/plain": [
       "       ID   Area  Equipamento  QT_UN_APREENDIDAS  QT_UN_LACRADAS  \\\n",
       "0   False  False        False               True           False   \n",
       "1   False  False        False               True           False   \n",
       "2   False  False        False               True           False   \n",
       "3   False  False        False               True           False   \n",
       "4   False  False        False               True           False   \n",
       "..    ...    ...          ...                ...             ...   \n",
       "95  False  False        False               True           False   \n",
       "96  False  False         True               True            True   \n",
       "97  False  False        False               True           False   \n",
       "98  False  False        False              False            True   \n",
       "99  False  False        False              False            True   \n",
       "\n",
       "    QT_UN_RETIDAS  Valor_Estimado  QT_UN_RETIRADAS   Data  DT_EXTRACAO  \n",
       "0            True           False            False  False        False  \n",
       "1            True           False            False  False        False  \n",
       "2            True           False            False  False        False  \n",
       "3            True           False            False  False        False  \n",
       "4            True           False            False  False        False  \n",
       "..            ...             ...              ...    ...          ...  \n",
       "95           True           False            False  False        False  \n",
       "96          False           False            False  False        False  \n",
       "97           True           False            False  False        False  \n",
       "98           True           False            False  False        False  \n",
       "99           True           False            False  False        False  \n",
       "\n",
       "[100 rows x 10 columns]"
      ]
     },
     "execution_count": 28,
     "metadata": {},
     "output_type": "execute_result"
    }
   ],
   "source": [
    "# Verificando dados faltantes... True tem.... false nao\n",
    "enulo = dados.isnull()\n",
    "enulo.head(100)"
   ]
  },
  {
   "cell_type": "code",
   "execution_count": 29,
   "id": "rubber-tobago",
   "metadata": {},
   "outputs": [
    {
     "name": "stdout",
     "output_type": "stream",
     "text": [
      "ID                     0\n",
      "Area                   8\n",
      "Equipamento            8\n",
      "QT_UN_APREENDIDAS    458\n",
      "QT_UN_LACRADAS       427\n",
      "QT_UN_RETIDAS        163\n",
      "Valor_Estimado        67\n",
      "QT_UN_RETIRADAS        0\n",
      "Data                   0\n",
      "DT_EXTRACAO            0\n",
      "dtype: int64\n"
     ]
    }
   ],
   "source": [
    "# soma total dos dados faltantes de cada coluna\n",
    "# Aqui eu tenho a quantidade... \n",
    "faltantes = dados.isnull().sum()\n",
    "print(faltantes)"
   ]
  },
  {
   "cell_type": "code",
   "execution_count": 30,
   "id": "concrete-tooth",
   "metadata": {},
   "outputs": [
    {
     "name": "stdout",
     "output_type": "stream",
     "text": [
      "ID                    0.000000\n",
      "Area                  1.454545\n",
      "Equipamento           1.454545\n",
      "QT_UN_APREENDIDAS    83.272727\n",
      "QT_UN_LACRADAS       77.636364\n",
      "QT_UN_RETIDAS        29.636364\n",
      "Valor_Estimado       12.181818\n",
      "QT_UN_RETIRADAS       0.000000\n",
      "Data                  0.000000\n",
      "DT_EXTRACAO           0.000000\n",
      "dtype: float64\n"
     ]
    }
   ],
   "source": [
    "# Retornando a porcentagem de dados faltantes de cada coluna\n",
    "# Aqui ja quero o percentual\n",
    "faltantes_percentual = (dados.isnull().sum() / len(dados['ID']))*100\n",
    "print(faltantes_percentual)"
   ]
  },
  {
   "cell_type": "code",
   "execution_count": 31,
   "id": "controlled-desperate",
   "metadata": {},
   "outputs": [],
   "source": [
    "# substituir os dados faltantes(NaN) pela palavra Nenhuma\n",
    "# nesse caso a coluna que eu quero\n",
    "dados['Area'].fillna('Nenhuma', inplace=True)\n",
    "dados['Equipamento'].fillna('Nenhuma', inplace=True)\n",
    "# dados['QT_UN_LACRADAS'].fillna(dados['QT_UN_LACRADAS'].mean(), inplace=True)"
   ]
  },
  {
   "cell_type": "code",
   "execution_count": 32,
   "id": "false-dynamics",
   "metadata": {},
   "outputs": [],
   "source": [
    "# Substituindo os dados pela MEDIA OU MEDIANA..\n",
    "dados['QT_UN_APREENDIDAS'].fillna(dados['QT_UN_APREENDIDAS'].mean(), inplace=True)\n",
    "dados['QT_UN_LACRADAS'].fillna(dados['QT_UN_LACRADAS'].mean(), inplace=True)\n",
    "dados['QT_UN_RETIDAS'].fillna(dados['QT_UN_RETIDAS'].mean(), inplace=True)\n",
    "dados['Valor_Estimado'].fillna(dados['Valor_Estimado'].mean(), inplace=True)"
   ]
  },
  {
   "cell_type": "code",
   "execution_count": 33,
   "id": "strong-mentor",
   "metadata": {},
   "outputs": [
    {
     "data": {
      "text/html": [
       "<div>\n",
       "<style scoped>\n",
       "    .dataframe tbody tr th:only-of-type {\n",
       "        vertical-align: middle;\n",
       "    }\n",
       "\n",
       "    .dataframe tbody tr th {\n",
       "        vertical-align: top;\n",
       "    }\n",
       "\n",
       "    .dataframe thead th {\n",
       "        text-align: right;\n",
       "    }\n",
       "</style>\n",
       "<table border=\"1\" class=\"dataframe\">\n",
       "  <thead>\n",
       "    <tr style=\"text-align: right;\">\n",
       "      <th></th>\n",
       "      <th>ID</th>\n",
       "      <th>Area</th>\n",
       "      <th>Equipamento</th>\n",
       "      <th>QT_UN_APREENDIDAS</th>\n",
       "      <th>QT_UN_LACRADAS</th>\n",
       "      <th>QT_UN_RETIDAS</th>\n",
       "      <th>Valor_Estimado</th>\n",
       "      <th>QT_UN_RETIRADAS</th>\n",
       "      <th>Data</th>\n",
       "      <th>DT_EXTRACAO</th>\n",
       "    </tr>\n",
       "  </thead>\n",
       "  <tbody>\n",
       "    <tr>\n",
       "      <th>0</th>\n",
       "      <td>36246</td>\n",
       "      <td>4-Aduana</td>\n",
       "      <td>Outros</td>\n",
       "      <td>5226.554348</td>\n",
       "      <td>42014.000000</td>\n",
       "      <td>7448.191214</td>\n",
       "      <td>252084.0</td>\n",
       "      <td>42014</td>\n",
       "      <td>18/12/2020</td>\n",
       "      <td>28/12/2021</td>\n",
       "    </tr>\n",
       "    <tr>\n",
       "      <th>1</th>\n",
       "      <td>26307</td>\n",
       "      <td>4-Aduana</td>\n",
       "      <td>Equipamento de Radiação Restrita</td>\n",
       "      <td>5226.554348</td>\n",
       "      <td>27.000000</td>\n",
       "      <td>7448.191214</td>\n",
       "      <td>13500.0</td>\n",
       "      <td>27</td>\n",
       "      <td>18/12/2020</td>\n",
       "      <td>28/12/2021</td>\n",
       "    </tr>\n",
       "    <tr>\n",
       "      <th>2</th>\n",
       "      <td>36246</td>\n",
       "      <td>4-Aduana</td>\n",
       "      <td>Bloqueador de sinal (Jammer)</td>\n",
       "      <td>5226.554348</td>\n",
       "      <td>8.000000</td>\n",
       "      <td>7448.191214</td>\n",
       "      <td>8000.0</td>\n",
       "      <td>8</td>\n",
       "      <td>18/12/2020</td>\n",
       "      <td>28/12/2021</td>\n",
       "    </tr>\n",
       "    <tr>\n",
       "      <th>3</th>\n",
       "      <td>36246</td>\n",
       "      <td>4-Aduana</td>\n",
       "      <td>Decodificador de sinal para SeAC</td>\n",
       "      <td>5226.554348</td>\n",
       "      <td>12.000000</td>\n",
       "      <td>7448.191214</td>\n",
       "      <td>6000.0</td>\n",
       "      <td>12</td>\n",
       "      <td>18/12/2020</td>\n",
       "      <td>28/12/2021</td>\n",
       "    </tr>\n",
       "    <tr>\n",
       "      <th>4</th>\n",
       "      <td>26307</td>\n",
       "      <td>4-Aduana</td>\n",
       "      <td>Bloqueador de sinal (Jammer)</td>\n",
       "      <td>5226.554348</td>\n",
       "      <td>23.000000</td>\n",
       "      <td>7448.191214</td>\n",
       "      <td>23000.0</td>\n",
       "      <td>23</td>\n",
       "      <td>18/12/2020</td>\n",
       "      <td>28/12/2021</td>\n",
       "    </tr>\n",
       "    <tr>\n",
       "      <th>...</th>\n",
       "      <td>...</td>\n",
       "      <td>...</td>\n",
       "      <td>...</td>\n",
       "      <td>...</td>\n",
       "      <td>...</td>\n",
       "      <td>...</td>\n",
       "      <td>...</td>\n",
       "      <td>...</td>\n",
       "      <td>...</td>\n",
       "      <td>...</td>\n",
       "    </tr>\n",
       "    <tr>\n",
       "      <th>95</th>\n",
       "      <td>44256</td>\n",
       "      <td>4-Aduana</td>\n",
       "      <td>Outros</td>\n",
       "      <td>5226.554348</td>\n",
       "      <td>3000.000000</td>\n",
       "      <td>7448.191214</td>\n",
       "      <td>900000.0</td>\n",
       "      <td>3000</td>\n",
       "      <td>13/12/2020</td>\n",
       "      <td>28/12/2021</td>\n",
       "    </tr>\n",
       "    <tr>\n",
       "      <th>96</th>\n",
       "      <td>48864</td>\n",
       "      <td>4-Aduana</td>\n",
       "      <td>Nenhuma</td>\n",
       "      <td>5226.554348</td>\n",
       "      <td>3852.536585</td>\n",
       "      <td>375.000000</td>\n",
       "      <td>9375.0</td>\n",
       "      <td>375</td>\n",
       "      <td>31/01/2021</td>\n",
       "      <td>28/12/2021</td>\n",
       "    </tr>\n",
       "    <tr>\n",
       "      <th>97</th>\n",
       "      <td>44001</td>\n",
       "      <td>1-Comércio</td>\n",
       "      <td>Equipamento óptico</td>\n",
       "      <td>5226.554348</td>\n",
       "      <td>212250.000000</td>\n",
       "      <td>7448.191214</td>\n",
       "      <td>1544200.0</td>\n",
       "      <td>212250</td>\n",
       "      <td>03/06/2021</td>\n",
       "      <td>28/12/2021</td>\n",
       "    </tr>\n",
       "    <tr>\n",
       "      <th>98</th>\n",
       "      <td>43188</td>\n",
       "      <td>4-Aduana</td>\n",
       "      <td>SmartTV Box</td>\n",
       "      <td>8750.000000</td>\n",
       "      <td>3852.536585</td>\n",
       "      <td>7448.191214</td>\n",
       "      <td>2625000.0</td>\n",
       "      <td>8750</td>\n",
       "      <td>17/11/2020</td>\n",
       "      <td>28/12/2021</td>\n",
       "    </tr>\n",
       "    <tr>\n",
       "      <th>99</th>\n",
       "      <td>43892</td>\n",
       "      <td>4-Aduana</td>\n",
       "      <td>SmartTV Box</td>\n",
       "      <td>1800.000000</td>\n",
       "      <td>3852.536585</td>\n",
       "      <td>7448.191214</td>\n",
       "      <td>540000.0</td>\n",
       "      <td>1800</td>\n",
       "      <td>04/12/2020</td>\n",
       "      <td>28/12/2021</td>\n",
       "    </tr>\n",
       "  </tbody>\n",
       "</table>\n",
       "<p>100 rows × 10 columns</p>\n",
       "</div>"
      ],
      "text/plain": [
       "       ID        Area                       Equipamento  QT_UN_APREENDIDAS  \\\n",
       "0   36246    4-Aduana                            Outros        5226.554348   \n",
       "1   26307    4-Aduana  Equipamento de Radiação Restrita        5226.554348   \n",
       "2   36246    4-Aduana      Bloqueador de sinal (Jammer)        5226.554348   \n",
       "3   36246    4-Aduana  Decodificador de sinal para SeAC        5226.554348   \n",
       "4   26307    4-Aduana      Bloqueador de sinal (Jammer)        5226.554348   \n",
       "..    ...         ...                               ...                ...   \n",
       "95  44256    4-Aduana                            Outros        5226.554348   \n",
       "96  48864    4-Aduana                           Nenhuma        5226.554348   \n",
       "97  44001  1-Comércio                Equipamento óptico        5226.554348   \n",
       "98  43188    4-Aduana                       SmartTV Box        8750.000000   \n",
       "99  43892    4-Aduana                       SmartTV Box        1800.000000   \n",
       "\n",
       "    QT_UN_LACRADAS  QT_UN_RETIDAS  Valor_Estimado  QT_UN_RETIRADAS  \\\n",
       "0     42014.000000    7448.191214        252084.0            42014   \n",
       "1        27.000000    7448.191214         13500.0               27   \n",
       "2         8.000000    7448.191214          8000.0                8   \n",
       "3        12.000000    7448.191214          6000.0               12   \n",
       "4        23.000000    7448.191214         23000.0               23   \n",
       "..             ...            ...             ...              ...   \n",
       "95     3000.000000    7448.191214        900000.0             3000   \n",
       "96     3852.536585     375.000000          9375.0              375   \n",
       "97   212250.000000    7448.191214       1544200.0           212250   \n",
       "98     3852.536585    7448.191214       2625000.0             8750   \n",
       "99     3852.536585    7448.191214        540000.0             1800   \n",
       "\n",
       "          Data DT_EXTRACAO  \n",
       "0   18/12/2020  28/12/2021  \n",
       "1   18/12/2020  28/12/2021  \n",
       "2   18/12/2020  28/12/2021  \n",
       "3   18/12/2020  28/12/2021  \n",
       "4   18/12/2020  28/12/2021  \n",
       "..         ...         ...  \n",
       "95  13/12/2020  28/12/2021  \n",
       "96  31/01/2021  28/12/2021  \n",
       "97  03/06/2021  28/12/2021  \n",
       "98  17/11/2020  28/12/2021  \n",
       "99  04/12/2020  28/12/2021  \n",
       "\n",
       "[100 rows x 10 columns]"
      ]
     },
     "execution_count": 33,
     "metadata": {},
     "output_type": "execute_result"
    }
   ],
   "source": [
    "dados.head(100)"
   ]
  },
  {
   "cell_type": "code",
   "execution_count": 34,
   "id": "korean-atlas",
   "metadata": {},
   "outputs": [
    {
     "data": {
      "text/plain": [
       "(550, 10)"
      ]
     },
     "execution_count": 34,
     "metadata": {},
     "output_type": "execute_result"
    }
   ],
   "source": [
    "dados.shape"
   ]
  },
  {
   "cell_type": "code",
   "execution_count": 35,
   "id": "valuable-principle",
   "metadata": {},
   "outputs": [
    {
     "data": {
      "text/plain": [
       "ID                   0.0\n",
       "Area                 0.0\n",
       "Equipamento          0.0\n",
       "QT_UN_APREENDIDAS    0.0\n",
       "QT_UN_LACRADAS       0.0\n",
       "QT_UN_RETIDAS        0.0\n",
       "Valor_Estimado       0.0\n",
       "QT_UN_RETIRADAS      0.0\n",
       "Data                 0.0\n",
       "DT_EXTRACAO          0.0\n",
       "dtype: float64"
      ]
     },
     "execution_count": 35,
     "metadata": {},
     "output_type": "execute_result"
    }
   ],
   "source": [
    "# Verificando os dados faltantes\n",
    "faltantes_percentual = (dados.isnull().sum() / len(dados['ID']))*100\n",
    "faltantes_percentual"
   ]
  },
  {
   "cell_type": "markdown",
   "id": "daily-hacker",
   "metadata": {},
   "source": [
    "# Dados Duplicados"
   ]
  },
  {
   "cell_type": "code",
   "execution_count": 40,
   "id": "unlike-protection",
   "metadata": {},
   "outputs": [
    {
     "data": {
      "text/plain": [
       "545"
      ]
     },
     "execution_count": 40,
     "metadata": {},
     "output_type": "execute_result"
    }
   ],
   "source": [
    "dados.Area.duplicated().sum()"
   ]
  },
  {
   "cell_type": "code",
   "execution_count": 41,
   "id": "certain-equation",
   "metadata": {},
   "outputs": [
    {
     "data": {
      "text/plain": [
       "534"
      ]
     },
     "execution_count": 41,
     "metadata": {},
     "output_type": "execute_result"
    }
   ],
   "source": [
    "dados.Equipamento.duplicated().sum()"
   ]
  },
  {
   "cell_type": "code",
   "execution_count": 42,
   "id": "timely-principal",
   "metadata": {},
   "outputs": [
    {
     "data": {
      "text/plain": [
       "497"
      ]
     },
     "execution_count": 42,
     "metadata": {},
     "output_type": "execute_result"
    }
   ],
   "source": [
    "dados.QT_UN_APREENDIDAS.duplicated().sum()"
   ]
  },
  {
   "cell_type": "code",
   "execution_count": 43,
   "id": "mental-beijing",
   "metadata": {},
   "outputs": [
    {
     "data": {
      "text/plain": [
       "478"
      ]
     },
     "execution_count": 43,
     "metadata": {},
     "output_type": "execute_result"
    }
   ],
   "source": [
    "dados.QT_UN_LACRADAS.duplicated().sum()"
   ]
  },
  {
   "cell_type": "code",
   "execution_count": 44,
   "id": "electrical-producer",
   "metadata": {},
   "outputs": [
    {
     "data": {
      "text/plain": [
       "277"
      ]
     },
     "execution_count": 44,
     "metadata": {},
     "output_type": "execute_result"
    }
   ],
   "source": [
    "dados.QT_UN_RETIRADAS.duplicated().sum()"
   ]
  },
  {
   "cell_type": "code",
   "execution_count": 45,
   "id": "humanitarian-swimming",
   "metadata": {},
   "outputs": [
    {
     "data": {
      "text/plain": [
       "196"
      ]
     },
     "execution_count": 45,
     "metadata": {},
     "output_type": "execute_result"
    }
   ],
   "source": [
    "dados.Valor_Estimado.duplicated().sum()"
   ]
  },
  {
   "cell_type": "code",
   "execution_count": 49,
   "id": "early-henry",
   "metadata": {},
   "outputs": [
    {
     "data": {
      "text/html": [
       "<div>\n",
       "<style scoped>\n",
       "    .dataframe tbody tr th:only-of-type {\n",
       "        vertical-align: middle;\n",
       "    }\n",
       "\n",
       "    .dataframe tbody tr th {\n",
       "        vertical-align: top;\n",
       "    }\n",
       "\n",
       "    .dataframe thead th {\n",
       "        text-align: right;\n",
       "    }\n",
       "</style>\n",
       "<table border=\"1\" class=\"dataframe\">\n",
       "  <thead>\n",
       "    <tr style=\"text-align: right;\">\n",
       "      <th></th>\n",
       "      <th>ID</th>\n",
       "      <th>Area</th>\n",
       "      <th>Equipamento</th>\n",
       "      <th>QT_UN_APREENDIDAS</th>\n",
       "      <th>QT_UN_LACRADAS</th>\n",
       "      <th>QT_UN_RETIDAS</th>\n",
       "      <th>Valor_Estimado</th>\n",
       "      <th>QT_UN_RETIRADAS</th>\n",
       "      <th>Data</th>\n",
       "      <th>DT_EXTRACAO</th>\n",
       "    </tr>\n",
       "  </thead>\n",
       "  <tbody>\n",
       "    <tr>\n",
       "      <th>0</th>\n",
       "      <td>36246</td>\n",
       "      <td>4-Aduana</td>\n",
       "      <td>Outros</td>\n",
       "      <td>5226.554348</td>\n",
       "      <td>42014.0</td>\n",
       "      <td>7448.191214</td>\n",
       "      <td>252084.0</td>\n",
       "      <td>42014</td>\n",
       "      <td>18/12/2020</td>\n",
       "      <td>28/12/2021</td>\n",
       "    </tr>\n",
       "    <tr>\n",
       "      <th>1</th>\n",
       "      <td>26307</td>\n",
       "      <td>4-Aduana</td>\n",
       "      <td>Equipamento de Radiação Restrita</td>\n",
       "      <td>5226.554348</td>\n",
       "      <td>27.0</td>\n",
       "      <td>7448.191214</td>\n",
       "      <td>13500.0</td>\n",
       "      <td>27</td>\n",
       "      <td>18/12/2020</td>\n",
       "      <td>28/12/2021</td>\n",
       "    </tr>\n",
       "    <tr>\n",
       "      <th>2</th>\n",
       "      <td>36246</td>\n",
       "      <td>4-Aduana</td>\n",
       "      <td>Bloqueador de sinal (Jammer)</td>\n",
       "      <td>5226.554348</td>\n",
       "      <td>8.0</td>\n",
       "      <td>7448.191214</td>\n",
       "      <td>8000.0</td>\n",
       "      <td>8</td>\n",
       "      <td>18/12/2020</td>\n",
       "      <td>28/12/2021</td>\n",
       "    </tr>\n",
       "    <tr>\n",
       "      <th>3</th>\n",
       "      <td>36246</td>\n",
       "      <td>4-Aduana</td>\n",
       "      <td>Decodificador de sinal para SeAC</td>\n",
       "      <td>5226.554348</td>\n",
       "      <td>12.0</td>\n",
       "      <td>7448.191214</td>\n",
       "      <td>6000.0</td>\n",
       "      <td>12</td>\n",
       "      <td>18/12/2020</td>\n",
       "      <td>28/12/2021</td>\n",
       "    </tr>\n",
       "    <tr>\n",
       "      <th>4</th>\n",
       "      <td>26307</td>\n",
       "      <td>4-Aduana</td>\n",
       "      <td>Bloqueador de sinal (Jammer)</td>\n",
       "      <td>5226.554348</td>\n",
       "      <td>23.0</td>\n",
       "      <td>7448.191214</td>\n",
       "      <td>23000.0</td>\n",
       "      <td>23</td>\n",
       "      <td>18/12/2020</td>\n",
       "      <td>28/12/2021</td>\n",
       "    </tr>\n",
       "  </tbody>\n",
       "</table>\n",
       "</div>"
      ],
      "text/plain": [
       "      ID      Area                       Equipamento  QT_UN_APREENDIDAS  \\\n",
       "0  36246  4-Aduana                            Outros        5226.554348   \n",
       "1  26307  4-Aduana  Equipamento de Radiação Restrita        5226.554348   \n",
       "2  36246  4-Aduana      Bloqueador de sinal (Jammer)        5226.554348   \n",
       "3  36246  4-Aduana  Decodificador de sinal para SeAC        5226.554348   \n",
       "4  26307  4-Aduana      Bloqueador de sinal (Jammer)        5226.554348   \n",
       "\n",
       "   QT_UN_LACRADAS  QT_UN_RETIDAS  Valor_Estimado  QT_UN_RETIRADAS        Data  \\\n",
       "0         42014.0    7448.191214        252084.0            42014  18/12/2020   \n",
       "1            27.0    7448.191214         13500.0               27  18/12/2020   \n",
       "2             8.0    7448.191214          8000.0                8  18/12/2020   \n",
       "3            12.0    7448.191214          6000.0               12  18/12/2020   \n",
       "4            23.0    7448.191214         23000.0               23  18/12/2020   \n",
       "\n",
       "  DT_EXTRACAO  \n",
       "0  28/12/2021  \n",
       "1  28/12/2021  \n",
       "2  28/12/2021  \n",
       "3  28/12/2021  \n",
       "4  28/12/2021  "
      ]
     },
     "execution_count": 49,
     "metadata": {},
     "output_type": "execute_result"
    }
   ],
   "source": [
    "dados = dados.drop_duplicates()\n",
    "dados.head()"
   ]
  },
  {
   "cell_type": "code",
   "execution_count": null,
   "id": "suburban-cheese",
   "metadata": {},
   "outputs": [],
   "source": []
  }
 ],
 "metadata": {
  "kernelspec": {
   "display_name": "Python 3",
   "language": "python",
   "name": "python3"
  },
  "language_info": {
   "codemirror_mode": {
    "name": "ipython",
    "version": 3
   },
   "file_extension": ".py",
   "mimetype": "text/x-python",
   "name": "python",
   "nbconvert_exporter": "python",
   "pygments_lexer": "ipython3",
   "version": "3.8.5"
  }
 },
 "nbformat": 4,
 "nbformat_minor": 5
}
